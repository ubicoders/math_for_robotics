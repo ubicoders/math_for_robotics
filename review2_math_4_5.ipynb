{
 "cells": [
  {
   "cell_type": "markdown",
   "metadata": {},
   "source": [
    "# 4. Vectors, Vector Products, Matrices, and Matrix Operations\n",
    "\n",
    "This chapter introduces basic vector and matrix operations, which are essential for solving linear algebra problems in robotics, physics, and computer science.\n",
    "\n",
    "## Key Concepts\n",
    "\n",
    "### Vectors\n",
    "- A vector represents a point or direction in space, described as an array of numbers.\n",
    "- Example: $\\vec{a} = [1, 2, 3]$\n",
    "\n",
    "### Vector Operations\n",
    "- **Addition**: Adds corresponding elements of two vectors.\n",
    "- **Subtraction**: Subtracts corresponding elements of two vectors.\n",
    "- **Dot Product**: A scalar that represents the projection of one vector onto another.\n",
    "- **Cross Product**: Produces a vector orthogonal to the two input vectors (3D only).\n",
    "\n",
    "### Matrices\n",
    "- A matrix is a rectangular array of numbers arranged in rows and columns.\n",
    "- Example: \n",
    "$$\n",
    "A = \\begin{bmatrix} 1 & 2 & 3 \\\\ 4 & 5 & 6 \\\\ 7 & 8 & 9 \\end{bmatrix}\n",
    "$$\n",
    "\n",
    "### Matrix Operations\n",
    "- **Addition and Subtraction**: Performed element-wise.\n",
    "- **Matrix Multiplication**: Combines rows of one matrix with columns of another.\n",
    "- **Matrix-Vector Multiplication**: Transforms a vector using a matrix.\n",
    "\n",
    "---\n",
    "In this chapter, we:\n",
    "1. Perform basic vector operations.\n",
    "2. Compute the dot and cross products.\n",
    "3. Perform matrix operations like addition, subtraction, and multiplication.\n",
    "4. Apply matrix-vector multiplication."
   ]
  },
  {
   "cell_type": "code",
   "execution_count": null,
   "metadata": {},
   "outputs": [],
   "source": [
    "# Import required library\n",
    "import numpy as np"
   ]
  },
  {
   "cell_type": "markdown",
   "metadata": {},
   "source": [
    "### 4.1 Vector Operations\n",
    "\n",
    "- Define two vectors $\\vec{a}$ and $\\vec{b}$.\n",
    "- Perform addition, subtraction, dot product, and cross product operations."
   ]
  },
  {
   "cell_type": "code",
   "execution_count": null,
   "metadata": {},
   "outputs": [],
   "source": [
    "# Define two 3D vectors\n",
    "a = np.array([1, 2, 3])\n",
    "b = np.array([4, 5, 6])\n",
    "\n",
    "# Vector addition\n",
    "addition = a + b\n",
    "print(f\"Vector Addition: {addition}\")\n",
    "\n",
    "# Vector subtraction\n",
    "subtraction = a - b\n",
    "print(f\"Vector Subtraction: {subtraction}\")\n",
    "\n",
    "# Dot product\n",
    "dot_product = np.dot(a, b)\n",
    "print(f\"Dot Product: {dot_product}\")\n",
    "\n",
    "# Cross product\n",
    "cross_product = np.cross(a, b)\n",
    "print(f\"Cross Product: {cross_product}\")\n",
    "\n",
    "# skew symmetric matrix\n",
    "skew_symmetric_matrix = np.array([[0, -a[2], a[1]], [a[2], 0, -a[0]], [-a[1], a[0], 0]])\n",
    "print(f\"Skew Symmetric Matrix: {skew_symmetric_matrix}\")\n",
    "\n",
    "# compare with cross product\n",
    "cross_product_matrix = skew_symmetric_matrix @ b\n",
    "print(f\"Cross Product Matrix: {cross_product_matrix}\")\n",
    "\n"
   ]
  },
  {
   "cell_type": "markdown",
   "metadata": {},
   "source": [
    "### 4.2 Matrix Operations\n",
    "\n",
    "- Define two $3 \\times 3$ matrices.\n",
    "- Perform addition, subtraction, and multiplication operations.\n",
    "- Demonstrate the use of the `@` operator for matrix multiplication."
   ]
  },
  {
   "cell_type": "code",
   "execution_count": null,
   "metadata": {},
   "outputs": [],
   "source": [
    "# Define two 3x3 matrices\n",
    "A33 = np.array([[1, 2, 3], [4, 5, 6], [7, 8, 9]])\n",
    "B33 = np.array([[9, 8, 7], [6, 5, 4], [3, 2, 1]])\n",
    "\n",
    "# Matrix addition\n",
    "addition = A33 + B33\n",
    "print(\"Matrix Addition:\\n\", addition)\n",
    "\n",
    "# Matrix subtraction\n",
    "subtraction = A33 - B33\n",
    "print(\"Matrix Subtraction:\\n\", subtraction)\n",
    "\n",
    "# Matrix multiplication\n",
    "multiplication = np.matmul(A33, B33)\n",
    "print(\"Matrix Multiplication (np.matmul):\\n\", multiplication)\n",
    "\n",
    "# Matrix multiplication with @ operator\n",
    "multiplication_operator = A33 @ B33\n",
    "print(\"Matrix Multiplication (@ operator):\\n\", multiplication_operator)"
   ]
  },
  {
   "cell_type": "markdown",
   "metadata": {},
   "source": [
    "### 4.3 Matrix-Vector Multiplication\n",
    "\n",
    "- Multiply a $3 \\times 3$ matrix with a $3 \\times 1$ vector."
   ]
  },
  {
   "cell_type": "code",
   "execution_count": null,
   "metadata": {},
   "outputs": [],
   "source": [
    "# Define a 3x3 matrix and a 3x1 vector\n",
    "M33 = np.array([[1, 2, 3], [4, 5, 6], [7, 8, 9]])\n",
    "v31 = np.array([1, 2, 3])\n",
    "\n",
    "# Matrix-vector multiplication\n",
    "result = M33 @ v31\n",
    "print(\"Matrix-Vector Multiplication:\\n\", result)"
   ]
  },
  {
   "cell_type": "markdown",
   "metadata": {},
   "source": [
    "# 5. Jacobian & Hessian Matrices\n",
    "\n",
    "The **Jacobian** and **Hessian** matrices are fundamental tools in multivariable calculus. They describe how a function's output changes with respect to its inputs.\n",
    "\n",
    "## Key Concepts\n",
    "\n",
    "### Jacobian Matrix\n",
    "- The Jacobian matrix contains the first-order partial derivatives of a vector-valued function.\n",
    "- For a function $\\vec{f}(x, y) = [f_1(x, y), f_2(x, y)]$, the Jacobian is:\n",
    "\n",
    "$$\n",
    "J(\\vec{f}) = \\begin{bmatrix}\n",
    "\\frac{\\partial f_1}{\\partial x} & \\frac{\\partial f_1}{\\partial y} \\\\\n",
    "\\frac{\\partial f_2}{\\partial x} & \\frac{\\partial f_2}{\\partial y}\n",
    "\\end{bmatrix}\n",
    "$$\n",
    "\n",
    "### Hessian Matrix\n",
    "- The Hessian matrix contains second-order partial derivatives of a scalar-valued function.\n",
    "- For $f(x, y)$, the Hessian is:\n",
    "\n",
    "$$\n",
    "H(f) = \\begin{bmatrix}\n",
    "\\frac{\\partial^2 f}{\\partial x^2} & \\frac{\\partial^2 f}{\\partial x \\partial y} \\\\\n",
    "\\frac{\\partial^2 f}{\\partial y \\partial x} & \\frac{\\partial^2 f}{\\partial y^2}\n",
    "\\end{bmatrix}\n",
    "$$\n"
   ]
  },
  {
   "cell_type": "code",
   "execution_count": null,
   "metadata": {},
   "outputs": [],
   "source": [
    "# Define a scalar function f(x, y)\n",
    "def f(x, y):\n",
    "    return x**2 + x*y + y**2\n",
    "\n",
    "# Define the Jacobian matrix\n",
    "def jacobian(x, y):\n",
    "    df_dx = 2*x + y  # Partial derivative with respect to x\n",
    "    df_dy = x + 2*y  # Partial derivative with respect to y\n",
    "    return np.array([df_dx, df_dy])\n",
    "\n",
    "# Define the Hessian matrix\n",
    "def hessian():\n",
    "    d2f_dx2 = 2  # Second partial derivative with respect to x\n",
    "    d2f_dy2 = 2  # Second partial derivative with respect to y\n",
    "    d2f_dxdy = 1  # Mixed partial derivative\n",
    "    return np.array([[d2f_dx2, d2f_dxdy], [d2f_dxdy, d2f_dy2]])\n",
    "\n",
    "# Test with example inputs\n",
    "x, y = 1, 2\n",
    "jacobian_matrix = jacobian(x, y)\n",
    "hessian_matrix = hessian()\n",
    "\n",
    "print(\"Jacobian Matrix:\")\n",
    "print(jacobian_matrix)\n",
    "\n",
    "print(\"\\nHessian Matrix:\")\n",
    "print(hessian_matrix)"
   ]
  },
  {
   "cell_type": "code",
   "execution_count": null,
   "metadata": {},
   "outputs": [],
   "source": []
  }
 ],
 "metadata": {
  "kernelspec": {
   "display_name": "ubicoders",
   "language": "python",
   "name": "python3"
  },
  "language_info": {
   "codemirror_mode": {
    "name": "ipython",
    "version": 3
   },
   "file_extension": ".py",
   "mimetype": "text/x-python",
   "name": "python",
   "nbconvert_exporter": "python",
   "pygments_lexer": "ipython3",
   "version": "3.11.10"
  }
 },
 "nbformat": 4,
 "nbformat_minor": 2
}
