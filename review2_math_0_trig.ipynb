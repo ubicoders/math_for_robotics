{
 "cells": [
  {
   "cell_type": "markdown",
   "metadata": {},
   "source": [
    "# Trig Functions"
   ]
  },
  {
   "cell_type": "code",
   "execution_count": null,
   "metadata": {},
   "outputs": [],
   "source": [
    "# Step 1: Import required libraries\n",
    "import numpy as np\n",
    "import pandas as pd\n",
    "import matplotlib.pyplot as plt"
   ]
  },
  {
   "cell_type": "code",
   "execution_count": null,
   "metadata": {},
   "outputs": [],
   "source": [
    "ang = -135 * np.pi/180\n",
    "\n",
    "s = np.sin(ang)\n",
    "c = np.cos(ang)\n",
    "t = np.tan(ang)\n",
    "\n",
    "print(f\"sin({ang}) = {s}\")\n",
    "print(f\"cos({ang}) = {c}\")\n",
    "print(f\"tan({ang}) = {t}\")\n",
    "\n",
    "arc_s = np.arcsin(s) * 180/np.pi\n",
    "arc_c = np.arccos(c) * 180/np.pi\n",
    "arc_t = np.arctan(t) * 180/np.pi\n",
    "\n",
    "print(f\"arcsin({s}) = {arc_s}\")\n",
    "print(f\"arccos({c}) = {arc_c}\")\n",
    "print(f\"arctan({t}) = {arc_t}\")\n",
    "\n",
    "# use atan2\n",
    "t = np.arctan2(1, 1) * 180/np.pi\n",
    "print(f\"arctan2(1, 1) = {t}\")"
   ]
  }
 ],
 "metadata": {
  "kernelspec": {
   "display_name": "ubicoders",
   "language": "python",
   "name": "python3"
  },
  "language_info": {
   "codemirror_mode": {
    "name": "ipython",
    "version": 3
   },
   "file_extension": ".py",
   "mimetype": "text/x-python",
   "name": "python",
   "nbconvert_exporter": "python",
   "pygments_lexer": "ipython3",
   "version": "3.11.10"
  }
 },
 "nbformat": 4,
 "nbformat_minor": 2
}
