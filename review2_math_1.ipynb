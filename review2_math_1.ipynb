{
 "cells": [
  {
   "cell_type": "markdown",
   "metadata": {},
   "source": [
    "# 1. Numerical Derivative & Integration\n",
    "\n",
    "This section focuses on two fundamental concepts in calculus: **numerical differentiation** and **numerical integration**. These concepts allow us to approximate derivatives and integrals of functions using discrete data points, which is especially useful when dealing with experimental or computational data.\n",
    "\n",
    "## Key Concepts\n",
    "\n",
    "### Numerical Derivative\n",
    "- The derivative of a function gives the rate of change of the function with respect to its variable.\n",
    "- For discrete data, we approximate the derivative using the formula:\n",
    "\n",
    "$$\n",
    "\\text{Derivative at } x_i \\approx \\frac{f(x_{i+1}) - f(x_i)}{x_{i+1} - x_i}\n",
    "$$\n",
    "\n",
    "### Numerical Integration\n",
    "- Integration gives the total area under a curve, or the accumulated value of the function over a range.\n",
    "- For discrete data, we can approximate the integral using the **trapezoidal rule**:\n",
    "\n",
    "\n",
    "$$\n",
    "\\text{Integral } \\approx \\sum_{i} f(x_i) \\cdot \\Delta x\n",
    "$$\n",
    "\n",
    "---\n",
    "In this chapter, we will:\n",
    "1. Load and visualize a sine wave dataset.\n",
    "2. Calculate the numerical derivative of the sine wave.\n",
    "3. Calculate the numerical integral of the sine wave.\n",
    "4. Explore how noise in data affects differentiation and integration.\n"
   ]
  },
  {
   "cell_type": "code",
   "execution_count": null,
   "metadata": {},
   "outputs": [],
   "source": [
    "# Step 1: Import required libraries\n",
    "import numpy as np\n",
    "import pandas as pd\n",
    "import matplotlib.pyplot as plt"
   ]
  },
  {
   "cell_type": "markdown",
   "metadata": {},
   "source": [
    "### 1.1 Load and Visualize the Sine Wave Data\n",
    "\n",
    "- The dataset contains a sine wave (`sin`) as well as a noisy sine wave (`sin_noise`).\n",
    "- Time values are stored in the `ts` column.\n",
    "- First, we will load the data, adjust the time to start from 0, and plot the sine wave to visualize it."
   ]
  },
  {
   "cell_type": "code",
   "execution_count": null,
   "metadata": {},
   "outputs": [],
   "source": [
    "# Load the sine wave dataset from a CSV file\n",
    "data = pd.read_csv('cos_sin.csv')  # Replace with your file path\n",
    "ts = data['ts'].values\n",
    "ts = ts - ts[0]  # Adjust time to start at 0\n",
    "sin = data['sin'].values\n",
    "\n",
    "# Plot the sine wave\n",
    "plt.figure(figsize=(8, 5))\n",
    "plt.plot(ts, sin, label='Sine Wave')\n",
    "plt.title('Sine Wave')\n",
    "plt.xlabel('Time (s)')\n",
    "plt.ylabel('Amplitude')\n",
    "plt.grid(True)\n",
    "plt.legend()\n",
    "plt.show()"
   ]
  },
  {
   "cell_type": "markdown",
   "metadata": {},
   "source": [
    "### 1.2 Numerical Derivative of the Sine Wave\n",
    "\n",
    "- Using the forward difference formula, we approximate the derivative of the sine wave.\n",
    "- Note: The first derivative value is set to 0 as there is no previous data point for calculation.\n",
    "\n",
    "The expected result for the derivative of `sin(x)` is `cos(x)`."
   ]
  },
  {
   "cell_type": "code",
   "execution_count": null,
   "metadata": {},
   "outputs": [],
   "source": [
    "# Calculate the numerical derivative of the sine wave\n",
    "dsin = np.zeros(len(sin))  # Initialize the derivative array with zeros\n",
    "for i in range(1, len(sin)):\n",
    "    # Compute the difference quotient for each time step\n",
    "    dsin[i] = (sin[i] - sin[i-1]) / (ts[i] - ts[i-1])\n",
    "\n",
    "# Plot the derivative\n",
    "plt.figure(figsize=(8, 5))\n",
    "plt.plot(ts, dsin, '--', label='Numerical Derivative')\n",
    "plt.title('Derivative of Sine Wave')\n",
    "plt.xlabel('Time (s)')\n",
    "plt.ylabel('Rate of Change')\n",
    "plt.grid(True)\n",
    "plt.legend()\n",
    "plt.show()"
   ]
  },
  {
   "cell_type": "markdown",
   "metadata": {},
   "source": [
    "### 1.3 Numerical Integration of the Sine Wave\n",
    "\n",
    "- Using the trapezoidal rule, we approximate the integral of the sine wave.\n",
    "- The integral at the first data point is initialized to 0.\n",
    "\n",
    "The expected result for the integral of `sin(x)` is `-cos(x)`."
   ]
  },
  {
   "cell_type": "code",
   "execution_count": null,
   "metadata": {},
   "outputs": [],
   "source": [
    "# Calculate the numerical integral of the sine wave\n",
    "int_sin = np.zeros(len(sin))  # Initialize the integral array with zeros\n",
    "for i in range(1, len(sin)):\n",
    "    dt = ts[i] - ts[i-1]\n",
    "    int_sin[i] = int_sin[i-1] + sin[i] * dt\n",
    "\n",
    "# Plot the integral\n",
    "plt.figure(figsize=(8, 5))\n",
    "plt.plot(ts, int_sin, '--', label='Numerical Integral')\n",
    "plt.title('Integral of Sine Wave')\n",
    "plt.xlabel('Time (s)')\n",
    "plt.ylabel('Cumulative Value')\n",
    "plt.grid(True)\n",
    "plt.legend()\n",
    "plt.show()"
   ]
  },
  {
   "cell_type": "markdown",
   "metadata": {},
   "source": [
    "### 1.4 Effect of Noise on Derivatives and Integrals\n",
    "\n",
    "- Real-world data often contains noise, which significantly impacts differentiation and integration.\n",
    "- Differentiation amplifies noise, resulting in large variations in the calculated derivative.\n",
    "- Integration, on the other hand, tends to smooth out noise due to the cumulative summation process.\n",
    "\n",
    "We will calculate and plot the derivative and integral of the noisy sine wave to observe these effects."
   ]
  },
  {
   "cell_type": "code",
   "execution_count": null,
   "metadata": {},
   "outputs": [],
   "source": [
    "# Extract the noisy sine wave from the dataset\n",
    "sin_noise = data['sin_noise'].values\n",
    "\n",
    "# Plot the noisy sine wave\n",
    "plt.figure(figsize=(8, 5))\n",
    "plt.plot(ts, sin_noise, label='Noisy Sine Wave')\n",
    "plt.title('Sine Wave with Noise')\n",
    "plt.xlabel('Time (s)')\n",
    "plt.ylabel('Amplitude')\n",
    "plt.grid(True)\n",
    "plt.legend()\n",
    "plt.show()"
   ]
  },
  {
   "cell_type": "code",
   "execution_count": null,
   "metadata": {},
   "outputs": [],
   "source": [
    "# Derivative of the noisy sine wave\n",
    "dsin_noise = np.zeros(len(sin_noise))\n",
    "for i in range(1, len(sin_noise)):\n",
    "    dsin_noise[i] = (sin_noise[i] - sin_noise[i-1]) / (ts[i] - ts[i-1])\n",
    "\n",
    "# Integral of the noisy sine wave\n",
    "int_sin_noise = np.zeros(len(sin_noise))\n",
    "for i in range(1, len(sin_noise)):\n",
    "    int_sin_noise[i] = int_sin_noise[i-1] + sin_noise[i] * (ts[i] - ts[i-1])\n",
    "\n",
    "# Plot the results\n",
    "plt.figure(figsize=(12, 6))\n",
    "\n",
    "# Plot noisy derivative\n",
    "plt.subplot(1, 2, 1)\n",
    "plt.plot(ts, dsin_noise, '--', label='Derivative of Noisy Data')\n",
    "plt.title('Derivative of Sine Wave with Noise')\n",
    "plt.xlabel('Time (s)')\n",
    "plt.ylabel('Rate of Change')\n",
    "plt.grid(True)\n",
    "plt.legend()\n",
    "\n",
    "# Plot noisy integral\n",
    "plt.subplot(1, 2, 2)\n",
    "plt.plot(ts, int_sin_noise, '--', label='Integral of Noisy Data')\n",
    "plt.title('Integral of Sine Wave with Noise')\n",
    "plt.xlabel('Time (s)')\n",
    "plt.ylabel('Cumulative Value')\n",
    "plt.grid(True)\n",
    "plt.legend()\n",
    "\n",
    "plt.tight_layout()\n",
    "plt.show()"
   ]
  }
 ],
 "metadata": {
  "kernelspec": {
   "display_name": "ubicoders",
   "language": "python",
   "name": "python3"
  },
  "language_info": {
   "codemirror_mode": {
    "name": "ipython",
    "version": 3
   },
   "file_extension": ".py",
   "mimetype": "text/x-python",
   "name": "python",
   "nbconvert_exporter": "python",
   "pygments_lexer": "ipython3",
   "version": "3.11.10"
  }
 },
 "nbformat": 4,
 "nbformat_minor": 2
}
