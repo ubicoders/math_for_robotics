{
 "cells": [
  {
   "cell_type": "markdown",
   "metadata": {},
   "source": [
    "# Chapter 1: Loading Data with Pandas\n",
    "This chapter demonstrates how to use Pandas to load a CSV file into a DataFrame and access the data as a NumPy array."
   ]
  },
  {
   "cell_type": "code",
   "execution_count": null,
   "metadata": {},
   "outputs": [],
   "source": [
    "import pandas as pd\n",
    "import numpy as np\n",
    "# Load the CSV file into a Pandas DataFrame\n",
    "df = pd.read_csv('classroom_score.csv')\n",
    "print(df)"
   ]
  },
  {
   "cell_type": "markdown",
   "metadata": {},
   "source": [
    "# Chapter 2: Printing and Accessing Data\n",
    "Learn how to print and access data using indices and slicing. Examples include accessing rows, columns, and specific elements."
   ]
  },
  {
   "cell_type": "code",
   "execution_count": null,
   "metadata": {},
   "outputs": [],
   "source": [
    "# Extract the DataFrame as a NumPy array for numerical operations\n",
    "data = df.values\n",
    "# Print the full data array to see its structure\n",
    "print(data)"
   ]
  },
  {
   "cell_type": "markdown",
   "metadata": {},
   "source": [
    "# Chapter 3: Indexing and Slicing\n",
    "This chapter covers how to extract individual elements and slices from the dataset, including rows and columns."
   ]
  },
  {
   "cell_type": "code",
   "execution_count": null,
   "metadata": {},
   "outputs": [],
   "source": [
    "# Access individual elements using indices\n",
    "s1_id = data[0, 0]  # Student 1's ID\n",
    "s1_math = data[0, 1]  # Student 1's Math score\n",
    "s1_physics = data[0, 2]  # Student 1's Physics score\n",
    "s1_english = data[0, 3]  # Student 1's English score\n",
    "print(f\"Student 1: {s1_id}, {s1_math}, {s1_physics}, {s1_english}\")\n",
    "\n",
    "# Extract the entire second row (Student 2's data)\n",
    "s2 = data[1, :]\n",
    "print(f\"Student 2: {s2}\")\n",
    "\n",
    "# Access the last student's data using negative indexing\n",
    "last_student_id = data[-1, 0]  # Last student's ID\n",
    "last_student_math = data[-1, 1]  # Last student's Math score\n",
    "last_student_physics = data[-1, 2]  # Last student's Physics score\n",
    "last_student_english = data[-1, 3]  # Last student's English score\n",
    "print(f\"Last Student: {last_student_id}, {last_student_math}, {last_student_physics}, {last_student_english}\")\n"
   ]
  },
  {
   "cell_type": "markdown",
   "metadata": {},
   "source": [
    "# Chapter 4: Column-wise and Row-wise Slicing\n",
    "Extract specific columns such as Math, Physics, and English scores for all students."
   ]
  },
  {
   "cell_type": "code",
   "execution_count": null,
   "metadata": {},
   "outputs": [],
   "source": [
    "# Extract specific columns using slicing\n",
    "math_scores = data[:, 1]  # All students' Math scores\n",
    "physics_scores = data[:, 2]  # All students' Physics scores\n",
    "english_scores = data[:, 3]  # All students' English scores\n",
    "print(f\"Math scores: {math_scores}\")\n",
    "print(f\"Physics scores: {physics_scores}\")\n",
    "print(f\"English scores: {english_scores}\")"
   ]
  },
  {
   "cell_type": "code",
   "execution_count": null,
   "metadata": {},
   "outputs": [],
   "source": [
    "# slice by row\n",
    "student_2 = data[1, :]\n",
    "print(student_2)"
   ]
  },
  {
   "cell_type": "markdown",
   "metadata": {},
   "source": [
    "# Chapter 5: Conditional Statements\n",
    "Use conditional statements to analyze and compare scores of individual students."
   ]
  },
  {
   "cell_type": "code",
   "execution_count": null,
   "metadata": {},
   "outputs": [],
   "source": [
    "# Compare Student 1's Math and Physics scores\n",
    "s1_math = data[0, 1]\n",
    "s1_physics = data[0, 2]\n",
    "if s1_math > s1_physics:\n",
    "    print(\"Student 1 is better in Math\")\n",
    "else:\n",
    "    print(\"Student 1 is better in Physics\")"
   ]
  },
  {
   "cell_type": "markdown",
   "metadata": {},
   "source": [
    "# Chapter 6: Looping through Data\n",
    "Learn how to use loops to iterate through student data, extract, and analyze information."
   ]
  },
  {
   "cell_type": "code",
   "execution_count": null,
   "metadata": {},
   "outputs": [],
   "source": [
    "# Loop through all students to print their scores\n",
    "for i in range(0, data.shape[0]):\n",
    "#for i in range(data.shape[0]):\n",
    "    student = data[i, :]\n",
    "    student_id = student[0]\n",
    "    math_score = student[1]\n",
    "    physics_score = student[2]\n",
    "    english_score = student[3]\n",
    "    print(f\"Student {student_id}: Math={math_score}, Physics={physics_score}, English={english_score}\")\n"
   ]
  },
  {
   "cell_type": "code",
   "execution_count": null,
   "metadata": {},
   "outputs": [],
   "source": [
    "# 1 line for loop example\n",
    "math_scores = data[:, 1]\n",
    "print(f\"Math scores: {math_scores}\")\n",
    "\n",
    "math_scores = [data[i, 1] for i in range(data.shape[0])]\n",
    "print(f\"Math scores: {math_scores}\")\n"
   ]
  },
  {
   "cell_type": "code",
   "execution_count": null,
   "metadata": {},
   "outputs": [],
   "source": [
    "# Using a while loop to iterate through the data\n",
    "i = 0\n",
    "while i < data.shape[0]:\n",
    "    student = data[i, :]\n",
    "    student_id = student[0]\n",
    "    math_score = student[1]\n",
    "    physics_score = student[2]\n",
    "    english_score = student[3]\n",
    "    print(f\"Student {student_id}: Math={math_score}, Physics={physics_score}, English={english_score}\")\n",
    "    i += 1"
   ]
  },
  {
   "cell_type": "markdown",
   "metadata": {},
   "source": [
    "# Chapter 7: Functions\n",
    "Define and use functions to grade scores and analyze student performance."
   ]
  },
  {
   "cell_type": "code",
   "execution_count": null,
   "metadata": {},
   "outputs": [],
   "source": [
    "# Function to convert a numeric score to a letter grade\n",
    "def score_to_grade(score):\n",
    "    if score >= 90:\n",
    "        return \"A\"\n",
    "    elif score >= 80:\n",
    "        return \"B\"\n",
    "    elif score >= 70:\n",
    "        return \"C\"\n",
    "    elif score >= 60:\n",
    "        return \"D\"\n",
    "    else:\n",
    "        return \"F\"\n",
    "\n",
    "# Example usage of the function\n",
    "grade = score_to_grade(85)\n",
    "print(f\"Grade: {grade}\")"
   ]
  },
  {
   "cell_type": "markdown",
   "metadata": {},
   "source": [
    "# Chapter 8: Classes and Methods\n",
    "\n",
    "Object-oriented programming (OOP) is a paradigm that allows you to model real-world entities as \"objects\" in your code. In Python, **classes** are the foundation of OOP, enabling developers to encapsulate data (attributes) and functionality (methods) into reusable and maintainable code structures.\n",
    "\n",
    "## Why Use Classes?\n",
    "\n",
    "1. **Encapsulation**: Group related data and operations together to create a self-contained entity. For example, a `Student` class can store a student's scores and provide methods to calculate their average or grade.\n",
    "\n",
    "2. **Reusability**: Classes allow you to define blueprints for objects. Once defined, you can create multiple instances of the class, reducing code duplication.\n",
    "\n",
    "3. **Modularity**: Classes promote organized code by separating functionality into logical blocks. This modularity makes the code easier to debug, maintain, and extend.\n",
    "\n",
    "4. **Abstraction**: Hide implementation details and expose only necessary functionalities, making your code user-friendly and less error-prone.\n",
    "\n",
    "5. **Inheritance and Polymorphism**: Advanced concepts that allow you to create specialized classes based on existing ones and define common interfaces for different implementations.\n"
   ]
  },
  {
   "cell_type": "code",
   "execution_count": null,
   "metadata": {},
   "outputs": [],
   "source": [
    "class Student:\n",
    "    def __init__(self, id, math=0, physics=0, english=0) -> None:\n",
    "        self.id = \"\"\n",
    "        self.math = math\n",
    "        self.physics = physics\n",
    "        self.english = english\n",
    "    \n",
    "    def average_score(self):\n",
    "        return (self.math + self.physics + self.english) / 3\n",
    "\n",
    "# Create an instance of the Student class\n",
    "student = Student(\"S1\")\n",
    "student.math = 85\n",
    "student.physics = 90\n",
    "student.english = 70\n",
    "\n",
    "# Print the student's data\n",
    "print(f\"Student ID: {student.id}, Math: {student.math}, Physics: {student.physics}, English: {student.english}\")\n",
    "\n",
    "\n",
    "\n"
   ]
  }
 ],
 "metadata": {
  "kernelspec": {
   "display_name": "ubicoders",
   "language": "python",
   "name": "python3"
  },
  "language_info": {
   "codemirror_mode": {
    "name": "ipython",
    "version": 3
   },
   "file_extension": ".py",
   "mimetype": "text/x-python",
   "name": "python",
   "nbconvert_exporter": "python",
   "pygments_lexer": "ipython3",
   "version": "3.11.10"
  }
 },
 "nbformat": 4,
 "nbformat_minor": 2
}
